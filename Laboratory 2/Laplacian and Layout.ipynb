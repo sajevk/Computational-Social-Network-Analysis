{
 "worksheets": [
  {
   "cells": [
    {
     "cell_type": "code",
     "execution_count": null,
     "metadata": {},
     "outputs": [],
     "input": [
      "# import the numpy and scipy libraries for \n",
      "# mathematical operations on matrices, vectors etc\n",
      "import numpy as np\n",
      "import scipy as sp\n",
      "\n",
      "# import the networkx network analysis package\n",
      "import networkx as nx\n",
      "# import the graphvisualisation package graphviz\n",
      "from networkx import graphviz_layout\n",
      "import pygraphviz\n",
      "# import the plotting functionality from matplotlib\n",
      "import matplotlib.pyplot as plt\n",
      "\n",
      "#import Delaunay tesselation \n",
      "from scipy.spatial import Delaunay\n",
      "\n",
      "\n",
      "import random\n",
      "#import laplacian - this contains the plot_graph function \n",
      "import laplacian"
     ],
     "language": "python",
     "prompt_number": 1
    },
    {
     "cell_type": "code",
     "execution_count": null,
     "metadata": {},
     "outputs": [],
     "input": [
      "num_nodes = 20\n",
      "x = [random.random() for i in range(num_nodes)]\n",
      "y = [random.random() for i in range(num_nodes)]\n",
      "\n",
      "x = np.array(x)\n",
      "y = np.array(y)"
     ],
     "language": "python",
     "prompt_number": 2
    },
    {
     "cell_type": "markdown",
     "metadata": {},
     "source": [
      "Make a graph with num_nodes nodes and zero edges. Plot the nodes using x,y as the node co-ordinates"
     ]
    },
    {
     "cell_type": "code",
     "execution_count": null,
     "metadata": {},
     "outputs": [
      {
       "stream": "stdout",
       "output_type": "stream",
       "text": [
        "20\n"
       ]
      }
     ],
     "input": [
      "G = nx.empty_graph(num_nodes)\n",
      "print G.number_of_nodes()\n",
      "\n",
      "pos = dict()\n",
      "for i in range(num_nodes):\n",
      "    pos[i] = x[i],y[i]"
     ],
     "language": "python",
     "prompt_number": 3
    },
    {
     "cell_type": "code",
     "execution_count": null,
     "metadata": {},
     "outputs": [],
     "input": [
      "laplacian.plot_graph(G, pos, 1)"
     ],
     "language": "python",
     "prompt_number": 4
    },
    {
     "cell_type": "markdown",
     "metadata": {},
     "source": [
      "Now add some edges - use Delaunay tesselation to produce a planar graph. Delaunay tesselation covers the convex hull of a set of points with triangular simplices (in 2D)"
     ]
    },
    {
     "cell_type": "code",
     "execution_count": null,
     "metadata": {},
     "outputs": [],
     "input": [
      "points = np.column_stack((x,y))\n",
      "dl=Delaunay(points)\n",
      "tri = dl.simplices"
     ],
     "language": "python",
     "prompt_number": 5
    },
    {
     "cell_type": "code",
     "execution_count": null,
     "metadata": {},
     "outputs": [],
     "input": [
      "edges = np.zeros((2, 6*len(tri)),dtype=int)\n",
      "data=np.ones(6*len(points))\n",
      "j=0\n",
      "for i in range(len(tri)):\n",
      "    edges[0][j]=tri[i][0]\n",
      "    edges[1][j]=tri[i][1]\n",
      "    j = j+1\n",
      "    edges[0][j]=tri[i][1]\n",
      "    edges[1][j]=tri[i][0]\n",
      "    j = j+1\n",
      "    edges[0][j]=tri[i][0]\n",
      "    edges[1][j]=tri[i][2];\n",
      "    j = j+1\n",
      "    edges[0][j]=tri[i][2]\n",
      "    edges[1][j]=tri[i][0];\n",
      "    j = j+1\n",
      "    edges[0][j]=tri[i][1]\n",
      "    edges[1][j]=tri[i][2]\n",
      "    j=j+1\n",
      "    edges[0][j]=tri[i][2]\n",
      "    edges[1][j]=tri[i][1]\n",
      "    j=j+1\n",
      "\n",
      "data=np.ones(6*len(tri))\n",
      "A = sp.sparse.csc_matrix((data,(edges[0,:],edges[1,:])))\n",
      "\n",
      "for i in range(A.nnz):\n",
      "    A.data[i] = 1.0\n",
      "\n",
      "G = nx.to_networkx_graph(A)"
     ],
     "language": "python",
     "prompt_number": 6
    },
    {
     "cell_type": "code",
     "execution_count": null,
     "metadata": {},
     "outputs": [],
     "input": [
      "laplacian.plot_graph(G,pos,2)"
     ],
     "language": "python",
     "prompt_number": 7
    },
    {
     "cell_type": "markdown",
     "metadata": {},
     "source": [
      "Use the eigenvectors of the normalised Laplacian to calculate placement positions\n",
      "for the nodes in the graph\n"
     ]
    },
    {
     "cell_type": "code",
     "execution_count": null,
     "metadata": {},
     "outputs": [],
     "input": [
      "eigen_pos = dict()\n",
      "deg = A.sum(0)\n",
      "diags = np.array([0])\n",
      "D = sp.sparse.spdiags(deg,diags,A.shape[0],A.shape[1])\n",
      "Dinv = sp.sparse.spdiags(1/deg,diags,A.shape[0],A.shape[1])\n",
      "# Normalised laplacian\n",
      "L = Dinv*(D - A)\n",
      "E, V= sp.sparse.linalg.eigs(L,3,None,100.0,'SM')\n",
      "V = V.real\n",
      "\n",
      "for i in range(num_nodes):\n",
      "    eigen_pos[i] = V[i,1].real,V[i,2].real"
     ],
     "language": "python",
     "prompt_number": 8
    },
    {
     "cell_type": "code",
     "execution_count": null,
     "metadata": {},
     "outputs": [],
     "input": [
      "laplacian.plot_graph(G,eigen_pos,3)"
     ],
     "language": "python",
     "prompt_number": 9
    }
   ]
  }
 ],
 "cells": [],
 "metadata": {
  "name": ""
 },
 "nbformat": 4,
 "nbformat_minor": 0
}